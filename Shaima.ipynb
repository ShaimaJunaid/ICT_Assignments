{
  "nbformat": 4,
  "nbformat_minor": 0,
  "metadata": {
    "colab": {
      "provenance": [],
      "collapsed_sections": []
    },
    "kernelspec": {
      "name": "python3",
      "display_name": "Python 3"
    },
    "language_info": {
      "name": "python"
    }
  },
  "cells": [
    {
      "cell_type": "code",
      "execution_count": 50,
      "metadata": {
        "id": "afX07TESw2t4"
      },
      "outputs": [],
      "source": [
        "#import\n",
        "import numpy as np\n",
        "import pandas as pd\n",
        "import matplotlib.pyplot as plt\n",
        "import seaborn as sns"
      ]
    },
    {
      "cell_type": "code",
      "source": [
        "#Read the dataset to python environment.\n",
        "data=pd.read_csv(\"/content/dataset/iris.csv\")\n",
        "data\n"
      ],
      "metadata": {
        "colab": {
          "base_uri": "https://localhost:8080/",
          "height": 424
        },
        "id": "BMwEsP-o-JBU",
        "outputId": "dad35674-e16d-4de4-cd5f-d658039e90bb"
      },
      "execution_count": 7,
      "outputs": [
        {
          "output_type": "execute_result",
          "data": {
            "text/plain": [
              "      SL   SW   PL   PW  Classification\n",
              "0    5.1  3.5  1.4  0.2     Iris-setosa\n",
              "1    4.9  3.0  1.4  0.2     Iris-setosa\n",
              "2    4.7  3.2  1.3  0.2     Iris-setosa\n",
              "3    4.6  3.1  1.5  0.2     Iris-setosa\n",
              "4    5.0  3.6  1.4  0.2     Iris-setosa\n",
              "..   ...  ...  ...  ...             ...\n",
              "145  6.7  3.0  5.2  2.3  Iris-virginica\n",
              "146  6.3  2.5  5.0  1.9  Iris-virginica\n",
              "147  6.5  3.0  5.2  2.0  Iris-virginica\n",
              "148  6.2  3.4  5.4  2.3  Iris-virginica\n",
              "149  5.9  3.0  5.1  1.8  Iris-virginica\n",
              "\n",
              "[150 rows x 5 columns]"
            ],
            "text/html": [
              "\n",
              "  <div id=\"df-e3b21f27-013d-43ba-ab0c-f79e04a0592e\">\n",
              "    <div class=\"colab-df-container\">\n",
              "      <div>\n",
              "<style scoped>\n",
              "    .dataframe tbody tr th:only-of-type {\n",
              "        vertical-align: middle;\n",
              "    }\n",
              "\n",
              "    .dataframe tbody tr th {\n",
              "        vertical-align: top;\n",
              "    }\n",
              "\n",
              "    .dataframe thead th {\n",
              "        text-align: right;\n",
              "    }\n",
              "</style>\n",
              "<table border=\"1\" class=\"dataframe\">\n",
              "  <thead>\n",
              "    <tr style=\"text-align: right;\">\n",
              "      <th></th>\n",
              "      <th>SL</th>\n",
              "      <th>SW</th>\n",
              "      <th>PL</th>\n",
              "      <th>PW</th>\n",
              "      <th>Classification</th>\n",
              "    </tr>\n",
              "  </thead>\n",
              "  <tbody>\n",
              "    <tr>\n",
              "      <th>0</th>\n",
              "      <td>5.1</td>\n",
              "      <td>3.5</td>\n",
              "      <td>1.4</td>\n",
              "      <td>0.2</td>\n",
              "      <td>Iris-setosa</td>\n",
              "    </tr>\n",
              "    <tr>\n",
              "      <th>1</th>\n",
              "      <td>4.9</td>\n",
              "      <td>3.0</td>\n",
              "      <td>1.4</td>\n",
              "      <td>0.2</td>\n",
              "      <td>Iris-setosa</td>\n",
              "    </tr>\n",
              "    <tr>\n",
              "      <th>2</th>\n",
              "      <td>4.7</td>\n",
              "      <td>3.2</td>\n",
              "      <td>1.3</td>\n",
              "      <td>0.2</td>\n",
              "      <td>Iris-setosa</td>\n",
              "    </tr>\n",
              "    <tr>\n",
              "      <th>3</th>\n",
              "      <td>4.6</td>\n",
              "      <td>3.1</td>\n",
              "      <td>1.5</td>\n",
              "      <td>0.2</td>\n",
              "      <td>Iris-setosa</td>\n",
              "    </tr>\n",
              "    <tr>\n",
              "      <th>4</th>\n",
              "      <td>5.0</td>\n",
              "      <td>3.6</td>\n",
              "      <td>1.4</td>\n",
              "      <td>0.2</td>\n",
              "      <td>Iris-setosa</td>\n",
              "    </tr>\n",
              "    <tr>\n",
              "      <th>...</th>\n",
              "      <td>...</td>\n",
              "      <td>...</td>\n",
              "      <td>...</td>\n",
              "      <td>...</td>\n",
              "      <td>...</td>\n",
              "    </tr>\n",
              "    <tr>\n",
              "      <th>145</th>\n",
              "      <td>6.7</td>\n",
              "      <td>3.0</td>\n",
              "      <td>5.2</td>\n",
              "      <td>2.3</td>\n",
              "      <td>Iris-virginica</td>\n",
              "    </tr>\n",
              "    <tr>\n",
              "      <th>146</th>\n",
              "      <td>6.3</td>\n",
              "      <td>2.5</td>\n",
              "      <td>5.0</td>\n",
              "      <td>1.9</td>\n",
              "      <td>Iris-virginica</td>\n",
              "    </tr>\n",
              "    <tr>\n",
              "      <th>147</th>\n",
              "      <td>6.5</td>\n",
              "      <td>3.0</td>\n",
              "      <td>5.2</td>\n",
              "      <td>2.0</td>\n",
              "      <td>Iris-virginica</td>\n",
              "    </tr>\n",
              "    <tr>\n",
              "      <th>148</th>\n",
              "      <td>6.2</td>\n",
              "      <td>3.4</td>\n",
              "      <td>5.4</td>\n",
              "      <td>2.3</td>\n",
              "      <td>Iris-virginica</td>\n",
              "    </tr>\n",
              "    <tr>\n",
              "      <th>149</th>\n",
              "      <td>5.9</td>\n",
              "      <td>3.0</td>\n",
              "      <td>5.1</td>\n",
              "      <td>1.8</td>\n",
              "      <td>Iris-virginica</td>\n",
              "    </tr>\n",
              "  </tbody>\n",
              "</table>\n",
              "<p>150 rows × 5 columns</p>\n",
              "</div>\n",
              "      <button class=\"colab-df-convert\" onclick=\"convertToInteractive('df-e3b21f27-013d-43ba-ab0c-f79e04a0592e')\"\n",
              "              title=\"Convert this dataframe to an interactive table.\"\n",
              "              style=\"display:none;\">\n",
              "        \n",
              "  <svg xmlns=\"http://www.w3.org/2000/svg\" height=\"24px\"viewBox=\"0 0 24 24\"\n",
              "       width=\"24px\">\n",
              "    <path d=\"M0 0h24v24H0V0z\" fill=\"none\"/>\n",
              "    <path d=\"M18.56 5.44l.94 2.06.94-2.06 2.06-.94-2.06-.94-.94-2.06-.94 2.06-2.06.94zm-11 1L8.5 8.5l.94-2.06 2.06-.94-2.06-.94L8.5 2.5l-.94 2.06-2.06.94zm10 10l.94 2.06.94-2.06 2.06-.94-2.06-.94-.94-2.06-.94 2.06-2.06.94z\"/><path d=\"M17.41 7.96l-1.37-1.37c-.4-.4-.92-.59-1.43-.59-.52 0-1.04.2-1.43.59L10.3 9.45l-7.72 7.72c-.78.78-.78 2.05 0 2.83L4 21.41c.39.39.9.59 1.41.59.51 0 1.02-.2 1.41-.59l7.78-7.78 2.81-2.81c.8-.78.8-2.07 0-2.86zM5.41 20L4 18.59l7.72-7.72 1.47 1.35L5.41 20z\"/>\n",
              "  </svg>\n",
              "      </button>\n",
              "      \n",
              "  <style>\n",
              "    .colab-df-container {\n",
              "      display:flex;\n",
              "      flex-wrap:wrap;\n",
              "      gap: 12px;\n",
              "    }\n",
              "\n",
              "    .colab-df-convert {\n",
              "      background-color: #E8F0FE;\n",
              "      border: none;\n",
              "      border-radius: 50%;\n",
              "      cursor: pointer;\n",
              "      display: none;\n",
              "      fill: #1967D2;\n",
              "      height: 32px;\n",
              "      padding: 0 0 0 0;\n",
              "      width: 32px;\n",
              "    }\n",
              "\n",
              "    .colab-df-convert:hover {\n",
              "      background-color: #E2EBFA;\n",
              "      box-shadow: 0px 1px 2px rgba(60, 64, 67, 0.3), 0px 1px 3px 1px rgba(60, 64, 67, 0.15);\n",
              "      fill: #174EA6;\n",
              "    }\n",
              "\n",
              "    [theme=dark] .colab-df-convert {\n",
              "      background-color: #3B4455;\n",
              "      fill: #D2E3FC;\n",
              "    }\n",
              "\n",
              "    [theme=dark] .colab-df-convert:hover {\n",
              "      background-color: #434B5C;\n",
              "      box-shadow: 0px 1px 3px 1px rgba(0, 0, 0, 0.15);\n",
              "      filter: drop-shadow(0px 1px 2px rgba(0, 0, 0, 0.3));\n",
              "      fill: #FFFFFF;\n",
              "    }\n",
              "  </style>\n",
              "\n",
              "      <script>\n",
              "        const buttonEl =\n",
              "          document.querySelector('#df-e3b21f27-013d-43ba-ab0c-f79e04a0592e button.colab-df-convert');\n",
              "        buttonEl.style.display =\n",
              "          google.colab.kernel.accessAllowed ? 'block' : 'none';\n",
              "\n",
              "        async function convertToInteractive(key) {\n",
              "          const element = document.querySelector('#df-e3b21f27-013d-43ba-ab0c-f79e04a0592e');\n",
              "          const dataTable =\n",
              "            await google.colab.kernel.invokeFunction('convertToInteractive',\n",
              "                                                     [key], {});\n",
              "          if (!dataTable) return;\n",
              "\n",
              "          const docLinkHtml = 'Like what you see? Visit the ' +\n",
              "            '<a target=\"_blank\" href=https://colab.research.google.com/notebooks/data_table.ipynb>data table notebook</a>'\n",
              "            + ' to learn more about interactive tables.';\n",
              "          element.innerHTML = '';\n",
              "          dataTable['output_type'] = 'display_data';\n",
              "          await google.colab.output.renderOutput(dataTable, element);\n",
              "          const docLink = document.createElement('div');\n",
              "          docLink.innerHTML = docLinkHtml;\n",
              "          element.appendChild(docLink);\n",
              "        }\n",
              "      </script>\n",
              "    </div>\n",
              "  </div>\n",
              "  "
            ]
          },
          "metadata": {},
          "execution_count": 7
        }
      ]
    },
    {
      "cell_type": "code",
      "source": [
        "# Display the columns in the dataset.\n",
        "data.columns"
      ],
      "metadata": {
        "colab": {
          "base_uri": "https://localhost:8080/"
        },
        "id": "EoOmExxLCXc7",
        "outputId": "60977f59-2ee0-4184-a3c1-b0157c76f569"
      },
      "execution_count": 8,
      "outputs": [
        {
          "output_type": "execute_result",
          "data": {
            "text/plain": [
              "Index(['SL', 'SW', 'PL', 'PW', 'Classification'], dtype='object')"
            ]
          },
          "metadata": {},
          "execution_count": 8
        }
      ]
    },
    {
      "cell_type": "code",
      "source": [
        "# Calculate the mean of each column of the dataset.\n",
        "dataMean=data.mean(numeric_only=True)\n",
        "print(dataMean)"
      ],
      "metadata": {
        "colab": {
          "base_uri": "https://localhost:8080/"
        },
        "id": "rbBmT9gUCiHN",
        "outputId": "e12b4ca8-f3ec-44a3-fadb-84cca517285c"
      },
      "execution_count": 9,
      "outputs": [
        {
          "output_type": "stream",
          "name": "stdout",
          "text": [
            "SL    5.843333\n",
            "SW    3.054000\n",
            "PL    3.758667\n",
            "PW    1.198667\n",
            "dtype: float64\n"
          ]
        }
      ]
    },
    {
      "cell_type": "code",
      "source": [
        "#Check for the null values present in the dataset\n",
        "data.isnull().sum()"
      ],
      "metadata": {
        "colab": {
          "base_uri": "https://localhost:8080/"
        },
        "id": "OJBEoKWZC8sn",
        "outputId": "b23b3cb5-53c0-4fc8-ba4c-65c06a855449"
      },
      "execution_count": 10,
      "outputs": [
        {
          "output_type": "execute_result",
          "data": {
            "text/plain": [
              "SL                0\n",
              "SW                0\n",
              "PL                0\n",
              "PW                0\n",
              "Classification    0\n",
              "dtype: int64"
            ]
          },
          "metadata": {},
          "execution_count": 10
        }
      ]
    },
    {
      "cell_type": "code",
      "source": [
        "# Visualizations using the dataset"
      ],
      "metadata": {
        "id": "A-5OH8iHDHj6"
      },
      "execution_count": null,
      "outputs": []
    },
    {
      "cell_type": "code",
      "source": [
        "#Sepal Length and width Comparison\n",
        "\n",
        "sepalLength=data[\"SL\"]\n",
        "sepalWidth=data[\"SW\"]\n",
        "#font\n",
        "font1={'family':'serif','color':'red','size':'20'}\n",
        "font2={'family':'Century','color':'black','size':'20'}\n",
        "font3={'family':'Garamond','color':'black','size':'20'}\n",
        "#plt.title(\"SEPAL COMPARISON\",fontdict=font1)\n",
        "plt.xlabel(\"Sepal Length\",fontdict=font2)\n",
        "plt.ylabel(\"Sepal Width\",fontdict=font3)\n",
        "plt.legend()\n",
        "#plot\n",
        "plt.scatter(sepalLength,sepalWidth,label=\"Sepal\")\n",
        "plt.show()\n",
        "   "
      ],
      "metadata": {
        "colab": {
          "base_uri": "https://localhost:8080/",
          "height": 309
        },
        "id": "vqkVni1ZDSP5",
        "outputId": "2a48a35b-2b1d-4ad2-8e25-91471c297c29"
      },
      "execution_count": 18,
      "outputs": [
        {
          "output_type": "display_data",
          "data": {
            "text/plain": [
              "<Figure size 432x288 with 1 Axes>"
            ],
            "image/png": "[encoded data removed]"
          },
          "metadata": {
            "needs_background": "light"
          }
        }
      ]
    },
    {
      "cell_type": "code",
      "source": [
        "#Petal Length and Width Comparison\n",
        "#font\n",
        "font={'family':'serif','color':'black','size':'20'}\n",
        "font1={'family':'serif','color':'red','size':'20'}\n",
        "#Label\n",
        "plt.title(\"PETAL COMPARISON\",fontdict=font1,loc='left')\n",
        "plt.xlabel(\"Petal Length\",fontdict=font)\n",
        "plt.ylabel(\"Petal Width\",fontdict=font)\n",
        "plt.legend()\n",
        "#plot\n",
        "plt.scatter(data[\"PL\"],data[\"PW\"],label=\"Petal\",color=\"orange\")\n",
        "plt.show()"
      ],
      "metadata": {
        "colab": {
          "base_uri": "https://localhost:8080/",
          "height": 309
        },
        "id": "kuamM5mIFfwv",
        "outputId": "bfe37d0d-9df1-4f3c-946e-8aa616e7033f"
      },
      "execution_count": 19,
      "outputs": [
        {
          "output_type": "display_data",
          "data": {
            "text/plain": [
              "<Figure size 432x288 with 1 Axes>"
            ],
            "image/png": "[encoded data removed]"
          },
          "metadata": {
            "needs_background": "light"
          }
        }
      ]
    },
    {
      "cell_type": "code",
      "source": [
        "#To find data in classification column\n",
        "data[\"Classification\"].unique()"
      ],
      "metadata": {
        "colab": {
          "base_uri": "https://localhost:8080/"
        },
        "id": "GKNKwVkNIM4U",
        "outputId": "0882c6ab-564f-4ee6-a55d-0e4c68faee0b"
      },
      "execution_count": 25,
      "outputs": [
        {
          "output_type": "execute_result",
          "data": {
            "text/plain": [
              "array(['Iris-setosa', 'Iris-versicolor', 'Iris-virginica'], dtype=object)"
            ]
          },
          "metadata": {},
          "execution_count": 25
        }
      ]
    },
    {
      "cell_type": "code",
      "source": [
        "#Plot classification column count\n",
        "sns.countplot(x=data[\"Classification\"])\n",
        "plt.show()"
      ],
      "metadata": {
        "colab": {
          "base_uri": "https://localhost:8080/",
          "height": 279
        },
        "id": "Jq2_13u6JcaY",
        "outputId": "9735130b-7c44-430f-c96e-f96238148fd4"
      },
      "execution_count": 23,
      "outputs": [
        {
          "output_type": "display_data",
          "data": {
            "text/plain": [
              "<Figure size 432x288 with 1 Axes>"
            ],
            "image/png": "[encoded data removed]"
          },
          "metadata": {
            "needs_background": "light"
          }
        }
      ]
    },
    {
      "cell_type": "code",
      "source": [
        "# SEPAL COMPARISON BASED ON THREE CLASSIFICATION OF IRIS "
      ],
      "metadata": {
        "id": "LeEPfG8XK5qe"
      },
      "execution_count": null,
      "outputs": []
    },
    {
      "cell_type": "code",
      "source": [
        "#Data of IRIS-SETOSA\n",
        "setosa=data[data[\"Classification\"]=='Iris-setosa']\n",
        "print('------IRIS-SETOSA------\\n',setosa)\n",
        "#Data of IRIS-VERSICOLOR\n",
        "versicolor=data[data[\"Classification\"]=='Iris-versicolor']\n",
        "print(\"-----IRIS-VERSICOLOR------\\n\",versicolor)\n",
        "#Data of IRIS-VIRGINICA\n",
        "virginica=data[data[\"Classification\"]=='Iris-virginica']\n",
        "print(\"------IRIS-VIRGINICA------\\n\",virginica)\n"
      ],
      "metadata": {
        "colab": {
          "base_uri": "https://localhost:8080/"
        },
        "id": "MsNhdTgNITU3",
        "outputId": "4334a6e9-82a6-46d3-f899-06a2b3527256"
      },
      "execution_count": 32,
      "outputs": [
        {
          "output_type": "stream",
          "name": "stdout",
          "text": [
            "------IRIS-SETOSA------\n",
            "      SL   SW   PL   PW Classification\n",
            "0   5.1  3.5  1.4  0.2    Iris-setosa\n",
            "1   4.9  3.0  1.4  0.2    Iris-setosa\n",
            "2   4.7  3.2  1.3  0.2    Iris-setosa\n",
            "3   4.6  3.1  1.5  0.2    Iris-setosa\n",
            "4   5.0  3.6  1.4  0.2    Iris-setosa\n",
            "5   5.4  3.9  1.7  0.4    Iris-setosa\n",
            "6   4.6  3.4  1.4  0.3    Iris-setosa\n",
            "7   5.0  3.4  1.5  0.2    Iris-setosa\n",
            "8   4.4  2.9  1.4  0.2    Iris-setosa\n",
            "9   4.9  3.1  1.5  0.1    Iris-setosa\n",
            "10  5.4  3.7  1.5  0.2    Iris-setosa\n",
            "11  4.8  3.4  1.6  0.2    Iris-setosa\n",
            "12  4.8  3.0  1.4  0.1    Iris-setosa\n",
            "13  4.3  3.0  1.1  0.1    Iris-setosa\n",
            "14  5.8  4.0  1.2  0.2    Iris-setosa\n",
            "15  5.7  4.4  1.5  0.4    Iris-setosa\n",
            "16  5.4  3.9  1.3  0.4    Iris-setosa\n",
            "17  5.1  3.5  1.4  0.3    Iris-setosa\n",
            "18  5.7  3.8  1.7  0.3    Iris-setosa\n",
            "19  5.1  3.8  1.5  0.3    Iris-setosa\n",
            "20  5.4  3.4  1.7  0.2    Iris-setosa\n",
            "21  5.1  3.7  1.5  0.4    Iris-setosa\n",
            "22  4.6  3.6  1.0  0.2    Iris-setosa\n",
            "23  5.1  3.3  1.7  0.5    Iris-setosa\n",
            "24  4.8  3.4  1.9  0.2    Iris-setosa\n",
            "25  5.0  3.0  1.6  0.2    Iris-setosa\n",
            "26  5.0  3.4  1.6  0.4    Iris-setosa\n",
            "27  5.2  3.5  1.5  0.2    Iris-setosa\n",
            "28  5.2  3.4  1.4  0.2    Iris-setosa\n",
            "29  4.7  3.2  1.6  0.2    Iris-setosa\n",
            "30  4.8  3.1  1.6  0.2    Iris-setosa\n",
            "31  5.4  3.4  1.5  0.4    Iris-setosa\n",
            "32  5.2  4.1  1.5  0.1    Iris-setosa\n",
            "33  5.5  4.2  1.4  0.2    Iris-setosa\n",
            "34  4.9  3.1  1.5  0.1    Iris-setosa\n",
            "35  5.0  3.2  1.2  0.2    Iris-setosa\n",
            "36  5.5  3.5  1.3  0.2    Iris-setosa\n",
            "37  4.9  3.1  1.5  0.1    Iris-setosa\n",
            "38  4.4  3.0  1.3  0.2    Iris-setosa\n",
            "39  5.1  3.4  1.5  0.2    Iris-setosa\n",
            "40  5.0  3.5  1.3  0.3    Iris-setosa\n",
            "41  4.5  2.3  1.3  0.3    Iris-setosa\n",
            "42  4.4  3.2  1.3  0.2    Iris-setosa\n",
            "43  5.0  3.5  1.6  0.6    Iris-setosa\n",
            "44  5.1  3.8  1.9  0.4    Iris-setosa\n",
            "45  4.8  3.0  1.4  0.3    Iris-setosa\n",
            "46  5.1  3.8  1.6  0.2    Iris-setosa\n",
            "47  4.6  3.2  1.4  0.2    Iris-setosa\n",
            "48  5.3  3.7  1.5  0.2    Iris-setosa\n",
            "49  5.0  3.3  1.4  0.2    Iris-setosa\n",
            "-----IRIS-VERSICOLOR------\n",
            "      SL   SW   PL   PW   Classification\n",
            "50  7.0  3.2  4.7  1.4  Iris-versicolor\n",
            "51  6.4  3.2  4.5  1.5  Iris-versicolor\n",
            "52  6.9  3.1  4.9  1.5  Iris-versicolor\n",
            "53  5.5  2.3  4.0  1.3  Iris-versicolor\n",
            "54  6.5  2.8  4.6  1.5  Iris-versicolor\n",
            "55  5.7  2.8  4.5  1.3  Iris-versicolor\n",
            "56  6.3  3.3  4.7  1.6  Iris-versicolor\n",
            "57  4.9  2.4  3.3  1.0  Iris-versicolor\n",
            "58  6.6  2.9  4.6  1.3  Iris-versicolor\n",
            "59  5.2  2.7  3.9  1.4  Iris-versicolor\n",
            "60  5.0  2.0  3.5  1.0  Iris-versicolor\n",
            "61  5.9  3.0  4.2  1.5  Iris-versicolor\n",
            "62  6.0  2.2  4.0  1.0  Iris-versicolor\n",
            "63  6.1  2.9  4.7  1.4  Iris-versicolor\n",
            "64  5.6  2.9  3.6  1.3  Iris-versicolor\n",
            "65  6.7  3.1  4.4  1.4  Iris-versicolor\n",
            "66  5.6  3.0  4.5  1.5  Iris-versicolor\n",
            "67  5.8  2.7  4.1  1.0  Iris-versicolor\n",
            "68  6.2  2.2  4.5  1.5  Iris-versicolor\n",
            "69  5.6  2.5  3.9  1.1  Iris-versicolor\n",
            "70  5.9  3.2  4.8  1.8  Iris-versicolor\n",
            "71  6.1  2.8  4.0  1.3  Iris-versicolor\n",
            "72  6.3  2.5  4.9  1.5  Iris-versicolor\n",
            "73  6.1  2.8  4.7  1.2  Iris-versicolor\n",
            "74  6.4  2.9  4.3  1.3  Iris-versicolor\n",
            "75  6.6  3.0  4.4  1.4  Iris-versicolor\n",
            "76  6.8  2.8  4.8  1.4  Iris-versicolor\n",
            "77  6.7  3.0  5.0  1.7  Iris-versicolor\n",
            "78  6.0  2.9  4.5  1.5  Iris-versicolor\n",
            "79  5.7  2.6  3.5  1.0  Iris-versicolor\n",
            "80  5.5  2.4  3.8  1.1  Iris-versicolor\n",
            "81  5.5  2.4  3.7  1.0  Iris-versicolor\n",
            "82  5.8  2.7  3.9  1.2  Iris-versicolor\n",
            "83  6.0  2.7  5.1  1.6  Iris-versicolor\n",
            "84  5.4  3.0  4.5  1.5  Iris-versicolor\n",
            "85  6.0  3.4  4.5  1.6  Iris-versicolor\n",
            "86  6.7  3.1  4.7  1.5  Iris-versicolor\n",
            "87  6.3  2.3  4.4  1.3  Iris-versicolor\n",
            "88  5.6  3.0  4.1  1.3  Iris-versicolor\n",
            "89  5.5  2.5  4.0  1.3  Iris-versicolor\n",
            "90  5.5  2.6  4.4  1.2  Iris-versicolor\n",
            "91  6.1  3.0  4.6  1.4  Iris-versicolor\n",
            "92  5.8  2.6  4.0  1.2  Iris-versicolor\n",
            "93  5.0  2.3  3.3  1.0  Iris-versicolor\n",
            "94  5.6  2.7  4.2  1.3  Iris-versicolor\n",
            "95  5.7  3.0  4.2  1.2  Iris-versicolor\n",
            "96  5.7  2.9  4.2  1.3  Iris-versicolor\n",
            "97  6.2  2.9  4.3  1.3  Iris-versicolor\n",
            "98  5.1  2.5  3.0  1.1  Iris-versicolor\n",
            "99  5.7  2.8  4.1  1.3  Iris-versicolor\n",
            "------IRIS-VIRGINICA------\n",
            "       SL   SW   PL   PW  Classification\n",
            "100  6.3  3.3  6.0  2.5  Iris-virginica\n",
            "101  5.8  2.7  5.1  1.9  Iris-virginica\n",
            "102  7.1  3.0  5.9  2.1  Iris-virginica\n",
            "103  6.3  2.9  5.6  1.8  Iris-virginica\n",
            "104  6.5  3.0  5.8  2.2  Iris-virginica\n",
            "105  7.6  3.0  6.6  2.1  Iris-virginica\n",
            "106  4.9  2.5  4.5  1.7  Iris-virginica\n",
            "107  7.3  2.9  6.3  1.8  Iris-virginica\n",
            "108  6.7  2.5  5.8  1.8  Iris-virginica\n",
            "109  7.2  3.6  6.1  2.5  Iris-virginica\n",
            "110  6.5  3.2  5.1  2.0  Iris-virginica\n",
            "111  6.4  2.7  5.3  1.9  Iris-virginica\n",
            "112  6.8  3.0  5.5  2.1  Iris-virginica\n",
            "113  5.7  2.5  5.0  2.0  Iris-virginica\n",
            "114  5.8  2.8  5.1  2.4  Iris-virginica\n",
            "115  6.4  3.2  5.3  2.3  Iris-virginica\n",
            "116  6.5  3.0  5.5  1.8  Iris-virginica\n",
            "117  7.7  3.8  6.7  2.2  Iris-virginica\n",
            "118  7.7  2.6  6.9  2.3  Iris-virginica\n",
            "119  6.0  2.2  5.0  1.5  Iris-virginica\n",
            "120  6.9  3.2  5.7  2.3  Iris-virginica\n",
            "121  5.6  2.8  4.9  2.0  Iris-virginica\n",
            "122  7.7  2.8  6.7  2.0  Iris-virginica\n",
            "123  6.3  2.7  4.9  1.8  Iris-virginica\n",
            "124  6.7  3.3  5.7  2.1  Iris-virginica\n",
            "125  7.2  3.2  6.0  1.8  Iris-virginica\n",
            "126  6.2  2.8  4.8  1.8  Iris-virginica\n",
            "127  6.1  3.0  4.9  1.8  Iris-virginica\n",
            "128  6.4  2.8  5.6  2.1  Iris-virginica\n",
            "129  7.2  3.0  5.8  1.6  Iris-virginica\n",
            "130  7.4  2.8  6.1  1.9  Iris-virginica\n",
            "131  7.9  3.8  6.4  2.0  Iris-virginica\n",
            "132  6.4  2.8  5.6  2.2  Iris-virginica\n",
            "133  6.3  2.8  5.1  1.5  Iris-virginica\n",
            "134  6.1  2.6  5.6  1.4  Iris-virginica\n",
            "135  7.7  3.0  6.1  2.3  Iris-virginica\n",
            "136  6.3  3.4  5.6  2.4  Iris-virginica\n",
            "137  6.4  3.1  5.5  1.8  Iris-virginica\n",
            "138  6.0  3.0  4.8  1.8  Iris-virginica\n",
            "139  6.9  3.1  5.4  2.1  Iris-virginica\n",
            "140  6.7  3.1  5.6  2.4  Iris-virginica\n",
            "141  6.9  3.1  5.1  2.3  Iris-virginica\n",
            "142  5.8  2.7  5.1  1.9  Iris-virginica\n",
            "143  6.8  3.2  5.9  2.3  Iris-virginica\n",
            "144  6.7  3.3  5.7  2.5  Iris-virginica\n",
            "145  6.7  3.0  5.2  2.3  Iris-virginica\n",
            "146  6.3  2.5  5.0  1.9  Iris-virginica\n",
            "147  6.5  3.0  5.2  2.0  Iris-virginica\n",
            "148  6.2  3.4  5.4  2.3  Iris-virginica\n",
            "149  5.9  3.0  5.1  1.8  Iris-virginica\n"
          ]
        }
      ]
    },
    {
      "cell_type": "code",
      "source": [
        "#Sepal comparison of Iris-setosa,Iris-Versicolor,Iris-Virginica\n",
        "\n",
        "#font\n",
        "font1={'family':'serif','color':'red','size':'20'}\n",
        "font2={'family':'Times New Roman','color':'black','size':'20'}\n",
        "#Label\n",
        "plt.title(\"SEPAL COMPARISON\",fontdict=font1)\n",
        "plt.xlabel(\"Sepal Length\",fontdict=font2)\n",
        "plt.ylabel(\"Sepal Width\",fontdict=font2)\n",
        "plt.legend()\n",
        "#plot\n",
        "plt.scatter(setosa[\"SL\"],setosa[\"SW\"],label=\"Iris-Setosa\",color=\"olive\")\n",
        "plt.scatter(versicolor[\"SL\"],versicolor[\"SW\"],label=\"Iris-Versicolor\",color=\"blue\")\n",
        "plt.scatter(virginica[\"SL\"],virginica[\"SW\"],label=\"Iris-virginica\",color=\"yellow\")\n",
        "plt.show()"
      ],
      "metadata": {
        "colab": {
          "base_uri": "https://localhost:8080/",
          "height": 309
        },
        "id": "9j7xyBMALVB6",
        "outputId": "90ccf861-ccc3-4f01-eb65-60cd30209abb"
      },
      "execution_count": 28,
      "outputs": [
        {
          "output_type": "display_data",
          "data": {
            "text/plain": [
              "<Figure size 432x288 with 1 Axes>"
            ],
            "image/png": "[encoded data removed]"
          },
          "metadata": {
            "needs_background": "light"
          }
        }
      ]
    },
    {
      "cell_type": "code",
      "source": [
        "#Petal comparison of Iris-setosa,Iris-Versicolor,Iris-Virginica \n",
        "\n",
        "#Font\n",
        "font3={'family':'Century','color':'teal','size':'20'}\n",
        "font={'family':'serif','color':'red','size':'20'}\n",
        "#Label\n",
        "plt.title(\"PETAL COMPARISON\",fontdict=font)\n",
        "plt.xlabel(\"Petal Length\",fontdict=font3)\n",
        "plt.ylabel(\"Petal Width\",fontdict=font3)\n",
        "plt.legend()\n",
        "#plot\n",
        "plt.scatter(setosa[\"PL\"],setosa[\"PW\"],label=\"Iris-Setosa\",color=\"aqua\")\n",
        "plt.scatter(versicolor[\"PL\"],versicolor[\"PW\"],label=\"Iris-Versicolor\",color=\"orchid\")\n",
        "plt.scatter(virginica[\"PL\"],virginica[\"PW\"],label=\"Iris-virginica\",color=\"peru\")\n",
        "plt.show()"
      ],
      "metadata": {
        "colab": {
          "base_uri": "https://localhost:8080/",
          "height": 309
        },
        "id": "E8L66LUEIl4d",
        "outputId": "eb56e88b-9da2-4820-d0bc-95808d2a5439"
      },
      "execution_count": 31,
      "outputs": [
        {
          "output_type": "display_data",
          "data": {
            "text/plain": [
              "<Figure size 432x288 with 1 Axes>"
            ],
            "image/png": "[encoded data removed]"
          },
          "metadata": {
            "needs_background": "light"
          }
        }
      ]
    },
    {
      "cell_type": "code",
      "source": [
        "#Plotting using boxplot"
      ],
      "metadata": {
        "id": "2waMKSQcO9wO"
      },
      "execution_count": null,
      "outputs": []
    },
    {
      "cell_type": "code",
      "source": [
        "#Boxplot Comparison of classification and petal length\n",
        "#Plot\n",
        "sns.boxplot(x=data[\"Classification\"],y=data[\"PL\"])\n",
        "plt.title(\"BOXPLOT BASED ON PETAL LENGTH\",color=\"red\")\n",
        "plt.show()\n"
      ],
      "metadata": {
        "colab": {
          "base_uri": "https://localhost:8080/",
          "height": 295
        },
        "id": "NoXGElN8PV1U",
        "outputId": "db2fdecc-3b39-4414-ac87-4e2717a1236b"
      },
      "execution_count": 45,
      "outputs": [
        {
          "output_type": "display_data",
          "data": {
            "text/plain": [
              "<Figure size 432x288 with 1 Axes>"
            ],
            "image/png": "[encoded data removed]"
          },
          "metadata": {
            "needs_background": "light"
          }
        }
      ]
    },
    {
      "cell_type": "code",
      "source": [
        "#Boxplot Comparison of classification and sepal width\n",
        "#Plot\n",
        "sns.boxplot(x=data[\"Classification\"],y=data[\"SW\"])\n",
        "plt.title(\"BOXPLOT BASED ON SEPAL WIDTH\",color=\"crimson\")\n",
        "plt.show()"
      ],
      "metadata": {
        "colab": {
          "base_uri": "https://localhost:8080/",
          "height": 295
        },
        "id": "S5RljKFETPhX",
        "outputId": "31463926-682b-4e81-abe1-0fc7949b322e"
      },
      "execution_count": 49,
      "outputs": [
        {
          "output_type": "display_data",
          "data": {
            "text/plain": [
              "<Figure size 432x288 with 1 Axes>"
            ],
            "image/png": "[encoded data removed]"
          },
          "metadata": {
            "needs_background": "light"
          }
        }
      ]
    }
  ]
}