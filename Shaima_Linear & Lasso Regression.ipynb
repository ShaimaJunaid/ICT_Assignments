{
 "cells": [
  {
   "cell_type": "code",
   "execution_count": 1,
   "id": "81ce5ef1",
   "metadata": {},
   "outputs": [],
   "source": [
    "import pandas as pd\n",
    "import numpy as np\n",
    "import matplotlib.pyplot as plt\n",
    "import seaborn as sns"
   ]
  },
  {
   "cell_type": "code",
   "execution_count": 2,
   "id": "59bff61a",
   "metadata": {},
   "outputs": [],
   "source": [
    "url = \"C:/DSA COURSE/DataSets/car_age_price.csv\""
   ]
  },
  {
   "cell_type": "markdown",
   "id": "091d8c34",
   "metadata": {},
   "source": [
    "The given dataset contains price of second-hand Hyundai grand i10 car with respect to year of making. Find the best linear relationship between year and price. Can you predict the possible price of a 2022 model second-hand grand i10? Please learn about lasso regression and create a model along with linear regression. Find out which one is performing better"
   ]
  },
  {
   "cell_type": "code",
   "execution_count": 3,
   "id": "3358e607",
   "metadata": {},
   "outputs": [],
   "source": [
    "#load the dataset\n",
    "data = pd.read_csv(url)"
   ]
  },
  {
   "cell_type": "code",
   "execution_count": 6,
   "id": "35822684",
   "metadata": {},
   "outputs": [
    {
     "data": {
      "text/html": [
       "<div>\n",
       "<style scoped>\n",
       "    .dataframe tbody tr th:only-of-type {\n",
       "        vertical-align: middle;\n",
       "    }\n",
       "\n",
       "    .dataframe tbody tr th {\n",
       "        vertical-align: top;\n",
       "    }\n",
       "\n",
       "    .dataframe thead th {\n",
       "        text-align: right;\n",
       "    }\n",
       "</style>\n",
       "<table border=\"1\" class=\"dataframe\">\n",
       "  <thead>\n",
       "    <tr style=\"text-align: right;\">\n",
       "      <th></th>\n",
       "      <th>Year</th>\n",
       "      <th>Price</th>\n",
       "    </tr>\n",
       "  </thead>\n",
       "  <tbody>\n",
       "    <tr>\n",
       "      <th>0</th>\n",
       "      <td>2018</td>\n",
       "      <td>465000</td>\n",
       "    </tr>\n",
       "    <tr>\n",
       "      <th>1</th>\n",
       "      <td>2019</td>\n",
       "      <td>755000</td>\n",
       "    </tr>\n",
       "    <tr>\n",
       "      <th>2</th>\n",
       "      <td>2019</td>\n",
       "      <td>700000</td>\n",
       "    </tr>\n",
       "    <tr>\n",
       "      <th>3</th>\n",
       "      <td>2018</td>\n",
       "      <td>465000</td>\n",
       "    </tr>\n",
       "    <tr>\n",
       "      <th>4</th>\n",
       "      <td>2018</td>\n",
       "      <td>465000</td>\n",
       "    </tr>\n",
       "    <tr>\n",
       "      <th>...</th>\n",
       "      <td>...</td>\n",
       "      <td>...</td>\n",
       "    </tr>\n",
       "    <tr>\n",
       "      <th>107</th>\n",
       "      <td>2016</td>\n",
       "      <td>375000</td>\n",
       "    </tr>\n",
       "    <tr>\n",
       "      <th>108</th>\n",
       "      <td>2014</td>\n",
       "      <td>300000</td>\n",
       "    </tr>\n",
       "    <tr>\n",
       "      <th>109</th>\n",
       "      <td>2015</td>\n",
       "      <td>425000</td>\n",
       "    </tr>\n",
       "    <tr>\n",
       "      <th>110</th>\n",
       "      <td>2016</td>\n",
       "      <td>420000</td>\n",
       "    </tr>\n",
       "    <tr>\n",
       "      <th>111</th>\n",
       "      <td>2015</td>\n",
       "      <td>425000</td>\n",
       "    </tr>\n",
       "  </tbody>\n",
       "</table>\n",
       "<p>112 rows × 2 columns</p>\n",
       "</div>"
      ],
      "text/plain": [
       "     Year   Price\n",
       "0    2018  465000\n",
       "1    2019  755000\n",
       "2    2019  700000\n",
       "3    2018  465000\n",
       "4    2018  465000\n",
       "..    ...     ...\n",
       "107  2016  375000\n",
       "108  2014  300000\n",
       "109  2015  425000\n",
       "110  2016  420000\n",
       "111  2015  425000\n",
       "\n",
       "[112 rows x 2 columns]"
      ]
     },
     "execution_count": 6,
     "metadata": {},
     "output_type": "execute_result"
    }
   ],
   "source": [
    "data"
   ]
  },
  {
   "cell_type": "code",
   "execution_count": 7,
   "id": "b928b461",
   "metadata": {},
   "outputs": [
    {
     "data": {
      "text/plain": [
       "(112, 2)"
      ]
     },
     "execution_count": 7,
     "metadata": {},
     "output_type": "execute_result"
    }
   ],
   "source": [
    "#check the shape of dataset\n",
    "data.shape"
   ]
  },
  {
   "cell_type": "code",
   "execution_count": 8,
   "id": "705633ba",
   "metadata": {},
   "outputs": [
    {
     "name": "stdout",
     "output_type": "stream",
     "text": [
      "<class 'pandas.core.frame.DataFrame'>\n",
      "RangeIndex: 112 entries, 0 to 111\n",
      "Data columns (total 2 columns):\n",
      " #   Column  Non-Null Count  Dtype\n",
      "---  ------  --------------  -----\n",
      " 0   Year    112 non-null    int64\n",
      " 1   Price   112 non-null    int64\n",
      "dtypes: int64(2)\n",
      "memory usage: 1.9 KB\n"
     ]
    }
   ],
   "source": [
    "#Information about the dataset\n",
    "data.info()"
   ]
  },
  {
   "cell_type": "code",
   "execution_count": 9,
   "id": "6e1b94bc",
   "metadata": {},
   "outputs": [
    {
     "data": {
      "text/plain": [
       "Year     0\n",
       "Price    0\n",
       "dtype: int64"
      ]
     },
     "execution_count": 9,
     "metadata": {},
     "output_type": "execute_result"
    }
   ],
   "source": [
    "#checking for null values\n",
    "data.isnull().sum()"
   ]
  },
  {
   "cell_type": "code",
   "execution_count": 14,
   "id": "be387aab",
   "metadata": {},
   "outputs": [
    {
     "data": {
      "text/html": [
       "<div>\n",
       "<style scoped>\n",
       "    .dataframe tbody tr th:only-of-type {\n",
       "        vertical-align: middle;\n",
       "    }\n",
       "\n",
       "    .dataframe tbody tr th {\n",
       "        vertical-align: top;\n",
       "    }\n",
       "\n",
       "    .dataframe thead th {\n",
       "        text-align: right;\n",
       "    }\n",
       "</style>\n",
       "<table border=\"1\" class=\"dataframe\">\n",
       "  <thead>\n",
       "    <tr style=\"text-align: right;\">\n",
       "      <th></th>\n",
       "      <th>Year</th>\n",
       "      <th>Price</th>\n",
       "    </tr>\n",
       "  </thead>\n",
       "  <tbody>\n",
       "    <tr>\n",
       "      <th>Year</th>\n",
       "      <td>1.000000</td>\n",
       "      <td>0.776302</td>\n",
       "    </tr>\n",
       "    <tr>\n",
       "      <th>Price</th>\n",
       "      <td>0.776302</td>\n",
       "      <td>1.000000</td>\n",
       "    </tr>\n",
       "  </tbody>\n",
       "</table>\n",
       "</div>"
      ],
      "text/plain": [
       "           Year     Price\n",
       "Year   1.000000  0.776302\n",
       "Price  0.776302  1.000000"
      ]
     },
     "execution_count": 14,
     "metadata": {},
     "output_type": "execute_result"
    }
   ],
   "source": [
    "#check the correlation matrix \n",
    "corr_matrix = data.corr()\n",
    "corr_matrix    "
   ]
  },
  {
   "cell_type": "code",
   "execution_count": 15,
   "id": "3d409c3c",
   "metadata": {},
   "outputs": [
    {
     "data": {
      "image/png": "[encoded data removed]",
      "text/plain": [
       "<Figure size 1152x288 with 2 Axes>"
      ]
     },
     "metadata": {
      "needs_background": "light"
     },
     "output_type": "display_data"
    }
   ],
   "source": [
    "#Heatmap\n",
    "plt.subplots(figsize=(16,4))\n",
    "sns.heatmap(corr_matrix,annot = True,cmap=\"YlGnBu\")\n",
    "plt.show()"
   ]
  },
  {
   "cell_type": "code",
   "execution_count": 16,
   "id": "221483ba",
   "metadata": {},
   "outputs": [],
   "source": [
    "#Positive correlation between year and price"
   ]
  },
  {
   "cell_type": "markdown",
   "id": "8a06229d",
   "metadata": {},
   "source": [
    "Target Value---->Price"
   ]
  },
  {
   "cell_type": "code",
   "execution_count": null,
   "id": "f481348b",
   "metadata": {},
   "outputs": [],
   "source": [
    "data.columns"
   ]
  },
  {
   "cell_type": "code",
   "execution_count": 17,
   "id": "be47d6a2",
   "metadata": {},
   "outputs": [
    {
     "data": {
      "text/plain": [
       "0      2018\n",
       "1      2019\n",
       "2      2019\n",
       "3      2018\n",
       "4      2018\n",
       "       ... \n",
       "107    2016\n",
       "108    2014\n",
       "109    2015\n",
       "110    2016\n",
       "111    2015\n",
       "Name: Year, Length: 112, dtype: int64"
      ]
     },
     "execution_count": 17,
     "metadata": {},
     "output_type": "execute_result"
    }
   ],
   "source": [
    "#Independent value\n",
    "x= data[\"Year\"]\n",
    "x"
   ]
  },
  {
   "cell_type": "code",
   "execution_count": 18,
   "id": "10699e41",
   "metadata": {},
   "outputs": [
    {
     "data": {
      "text/plain": [
       "0      465000\n",
       "1      755000\n",
       "2      700000\n",
       "3      465000\n",
       "4      465000\n",
       "        ...  \n",
       "107    375000\n",
       "108    300000\n",
       "109    425000\n",
       "110    420000\n",
       "111    425000\n",
       "Name: Price, Length: 112, dtype: int64"
      ]
     },
     "execution_count": 18,
     "metadata": {},
     "output_type": "execute_result"
    }
   ],
   "source": [
    "# Dependent/target value\n",
    "y=data[\"Price\"]\n",
    "y"
   ]
  },
  {
   "cell_type": "code",
   "execution_count": 19,
   "id": "7df034e3",
   "metadata": {},
   "outputs": [
    {
     "name": "stdout",
     "output_type": "stream",
     "text": [
      "Shape of x =  (112,)\n",
      "Shape of y =  (112,)\n"
     ]
    }
   ],
   "source": [
    "#Shape of x and y\n",
    "print(\"Shape of x = \",x.shape)\n",
    "print(\"Shape of y = \",y.shape)"
   ]
  },
  {
   "cell_type": "code",
   "execution_count": 20,
   "id": "8fd14a40",
   "metadata": {},
   "outputs": [],
   "source": [
    "x= x.values.reshape(-1,1)\n",
    "y= y.values.reshape(-1,1)"
   ]
  },
  {
   "cell_type": "code",
   "execution_count": 21,
   "id": "f0fc71b4",
   "metadata": {},
   "outputs": [
    {
     "name": "stdout",
     "output_type": "stream",
     "text": [
      "Shape of x =  (112, 1)\n",
      "Shape of y =  (112, 1)\n"
     ]
    }
   ],
   "source": [
    "#Shape of x and y after reshape\n",
    "print(\"Shape of x = \",x.shape)\n",
    "print(\"Shape of y = \",y.shape)"
   ]
  },
  {
   "cell_type": "code",
   "execution_count": 22,
   "id": "59d55f91",
   "metadata": {},
   "outputs": [],
   "source": [
    "#Standard Scaling of x and y \n",
    "from sklearn.preprocessing import StandardScaler\n",
    "Std_Scaler = StandardScaler()\n",
    "x= Std_Scaler.fit_transform(x)\n",
    "y = Std_Scaler.fit_transform(y)"
   ]
  },
  {
   "cell_type": "code",
   "execution_count": 23,
   "id": "a239bb6a",
   "metadata": {},
   "outputs": [
    {
     "data": {
      "image/png": "[encoded data removed]",
      "text/plain": [
       "<Figure size 1152x288 with 1 Axes>"
      ]
     },
     "metadata": {
      "needs_background": "light"
     },
     "output_type": "display_data"
    }
   ],
   "source": [
    "# Regression Plot for Year and Price\n",
    "plt.subplots(figsize=(16,4))\n",
    "sns.regplot(data=data, x='Year', y='Price', ci=None)\n",
    "plt.title(\"Price vs Year\")\n",
    "plt.show()"
   ]
  },
  {
   "cell_type": "code",
   "execution_count": 24,
   "id": "ccfa08c9",
   "metadata": {},
   "outputs": [],
   "source": [
    "#Split our dataset into trainnig and testing data\n",
    "from sklearn.model_selection import train_test_split\n",
    "x_train,x_test,y_train,y_test = train_test_split(x,y,random_state = 42, test_size = 0.2)"
   ]
  },
  {
   "cell_type": "markdown",
   "id": "642b2e1d",
   "metadata": {},
   "source": [
    "Linear Regression"
   ]
  },
  {
   "cell_type": "code",
   "execution_count": 25,
   "id": "6726d4f6",
   "metadata": {},
   "outputs": [],
   "source": [
    "#create sklearn linear model \n",
    "from sklearn.linear_model import LinearRegression\n",
    "#LinearRegression object \n",
    "linear_regression = LinearRegression()\n",
    "#fit the training dataset in it.\n",
    "model = linear_regression.fit(x_train,y_train)\n",
    "predictions = model.predict(x_test)"
   ]
  },
  {
   "cell_type": "code",
   "execution_count": 26,
   "id": "8d771a7b",
   "metadata": {},
   "outputs": [
    {
     "name": "stdout",
     "output_type": "stream",
     "text": [
      "Mean Squared Error 0.5247067733340601\n",
      "R Square value 0.367593134258979\n"
     ]
    }
   ],
   "source": [
    "#Mean Squared Error and R Square value\n",
    "from sklearn.metrics import mean_squared_error,r2_score\n",
    "print(\"Mean Squared Error\",mean_squared_error(y_test,predictions))\n",
    "print(\"R Square value\",r2_score(y_test,predictions))"
   ]
  },
  {
   "cell_type": "markdown",
   "id": "1dcfe578",
   "metadata": {},
   "source": [
    " R square value is 0.36.So the model is not a bad fit"
   ]
  },
  {
   "cell_type": "code",
   "execution_count": 27,
   "id": "15a3747c",
   "metadata": {},
   "outputs": [
    {
     "data": {
      "image/png": "[encoded data removed]",
      "text/plain": [
       "<Figure size 1152x288 with 1 Axes>"
      ]
     },
     "metadata": {
      "needs_background": "light"
     },
     "output_type": "display_data"
    }
   ],
   "source": [
    "# Visualize Actual price and Predicted price\n",
    "plt.subplots(figsize=(16,4))\n",
    "plt.scatter(y_test,predictions)\n",
    "plt.title(\"Actual Price vs Predicted Price\")\n",
    "plt.show()"
   ]
  },
  {
   "cell_type": "markdown",
   "id": "17d8964d",
   "metadata": {},
   "source": [
    " Lasso Regression"
   ]
  },
  {
   "cell_type": "code",
   "execution_count": 28,
   "id": "49c87cb6",
   "metadata": {},
   "outputs": [],
   "source": [
    "#import lasso regression from sklearn library\n",
    "from sklearn.linear_model import Lasso"
   ]
  },
  {
   "cell_type": "code",
   "execution_count": 29,
   "id": "9cc658a4",
   "metadata": {},
   "outputs": [],
   "source": [
    "#Train the model\n",
    "lasso = Lasso(alpha = 1)\n",
    "lasso.fit(x_train, y_train)\n",
    "y_prediction = lasso.predict(x_test)"
   ]
  },
  {
   "cell_type": "code",
   "execution_count": 30,
   "id": "78e01b8f",
   "metadata": {},
   "outputs": [
    {
     "name": "stdout",
     "output_type": "stream",
     "text": [
      "Mean Squared Error 0.831681687996886\n",
      "R Square value -0.0023907377034251276\n"
     ]
    }
   ],
   "source": [
    "#calculate Mean Squared Error\n",
    "from sklearn.metrics import mean_squared_error,r2_score\n",
    "print(\"Mean Squared Error\",mean_squared_error(y_test,y_prediction))\n",
    "print(\"R Square value\",r2_score(y_test,y_prediction))"
   ]
  },
  {
   "cell_type": "markdown",
   "id": "7cc63c94",
   "metadata": {},
   "source": [
    "Here R square value  is -0.002 so there is week relationship between varibles .So the model is not fit good. Its a worse one"
   ]
  },
  {
   "cell_type": "code",
   "execution_count": 31,
   "id": "ae616467",
   "metadata": {},
   "outputs": [
    {
     "data": {
      "image/png": "[encoded data removed]",
      "text/plain": [
       "<Figure size 1152x288 with 1 Axes>"
      ]
     },
     "metadata": {
      "needs_background": "light"
     },
     "output_type": "display_data"
    }
   ],
   "source": [
    "plt.subplots(figsize=(16,4))\n",
    "plt.scatter(y_test,y_prediction)\n",
    "plt.title(\"Actual Prices  vs Predicted Prices\")\n",
    "plt.show()"
   ]
  },
  {
   "cell_type": "markdown",
   "id": "484f73fc",
   "metadata": {},
   "source": [
    "Conclusion: Linear Regression is performing better compared to lasso regression"
   ]
  },
  {
   "cell_type": "code",
   "execution_count": null,
   "id": "a7340a7b",
   "metadata": {},
   "outputs": [],
   "source": []
  }
 ],
 "metadata": {
  "kernelspec": {
   "display_name": "Python 3 (ipykernel)",
   "language": "python",
   "name": "python3"
  },
  "language_info": {
   "codemirror_mode": {
    "name": "ipython",
    "version": 3
   },
   "file_extension": ".py",
   "mimetype": "text/x-python",
   "name": "python",
   "nbconvert_exporter": "python",
   "pygments_lexer": "ipython3",
   "version": "3.9.12"
  }
 },
 "nbformat": 4,
 "nbformat_minor": 5
}
